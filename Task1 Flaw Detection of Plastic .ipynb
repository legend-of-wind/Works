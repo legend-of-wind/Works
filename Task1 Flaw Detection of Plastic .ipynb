{
 "cells": [
  {
   "cell_type": "code",
   "execution_count": 2,
   "metadata": {},
   "outputs": [
    {
     "name": "stdout",
     "output_type": "stream",
     "text": [
      "e:\\Projects\\Project1\\data plastic renamed\n"
     ]
    }
   ],
   "source": [
    "import cv2\n",
    "import pandas as pd \n",
    "import numpy as np\n",
    "import matplotlib.pyplot as plt\n",
    "%cd e:/Projects/Project1/data plastic renamed"
   ]
  },
  {
   "cell_type": "markdown",
   "metadata": {
    "heading_collapsed": true
   },
   "source": [
    "#问题分析"
   ]
  },
  {
   "cell_type": "raw",
   "metadata": {
    "hidden": true
   },
   "source": [
    "数据集\n",
    "1)三种产品问题\n",
    "Flash 飞边       底视 \n",
    "Short 填充不足   底视 \n",
    "Shrink 皱缩      斜视图\n",
    "2)概述\n",
    "底视图 24张 \n",
    "斜视图 20张 "
   ]
  },
  {
   "cell_type": "raw",
   "metadata": {
    "hidden": true
   },
   "source": [
    "规划1\n",
    "1.底视图两种问题的分辨\n",
    "1)手动标注数据集 \n",
    "target.csv 样本数24\n",
    "Flash Short 2个属性 出现该问题则属性值为1 反之为0\n",
    "\n",
    "2)将图像关键区域识别并切割\n",
    "3)降低图像分辨率 \n",
    "4)自适应阈值化图像\n",
    "5)采用BP网络输出向量  \n",
    "\n",
    "2.俯视图判断是否有皱缩 \n",
    "1)截取图像中四个角\n",
    "2)手动标注数据 \n",
    "3)采用BP网络"
   ]
  },
  {
   "cell_type": "markdown",
   "metadata": {},
   "source": [
    "#目标标识与导入"
   ]
  },
  {
   "cell_type": "code",
   "execution_count": 2,
   "metadata": {},
   "outputs": [],
   "source": [
    "#初始化 \n",
    "n=24\n",
    "target=np.zeros((2,n))\n",
    "df_target=pd.DataFrame(target,index=[\"Flash\",\"Short\"])"
   ]
  },
  {
   "cell_type": "markdown",
   "metadata": {},
   "source": [
    "##手动目标设置"
   ]
  },
  {
   "cell_type": "code",
   "execution_count": 5,
   "metadata": {
    "code_folding": []
   },
   "outputs": [],
   "source": [
    "i = 0\n",
    "while -1 < i < n:\n",
    "    name = '(' + str(i+1) + ')' + '.bmp'  # 图片读取\n",
    "    img = cv2.imread(name)\n",
    "\n",
    "    img = cv2.resize(img, (700, 500), 0, 0)  # 合适大小显示\n",
    "    cv2.imshow(\"img\", img)\n",
    "\n",
    "    for j in range(2):\n",
    "        tmp = cv2.waitKey(0)\n",
    "\n",
    "        if tmp == ord('q'):  # 按q退出\n",
    "            i = n+1\n",
    "        if tmp == ord('a'):  # 回到上一个输入\n",
    "            i -= 1\n",
    "            break\n",
    "        elif tmp == ord('d'):\n",
    "            i += 1\n",
    "            break\n",
    "\n",
    "        df_target.iloc[j, i] = tmp-48  # 写入文件  做数组访问使用iloc\n",
    "\n",
    "    i += 1\n",
    "\n",
    "cv2.destroyAllWindows()  # 关闭文件 窗口\n",
    "df_target.to_csv('target.csv')"
   ]
  },
  {
   "cell_type": "markdown",
   "metadata": {},
   "source": [
    "##读取与显示"
   ]
  },
  {
   "cell_type": "code",
   "execution_count": 3,
   "metadata": {
    "code_folding": []
   },
   "outputs": [],
   "source": [
    "df_target = pd.read_csv(\"target.csv\")\n",
    "\n",
    "i = 0\n",
    "n = 24\n",
    "while -1 < i < n:\n",
    "    name = '(' + str(i+1) + ')' + '.bmp'  # 图片读取\n",
    "    img = cv2.imread(name)\n",
    "\n",
    "    img = cv2.resize(img, (700, 500), 0, 0)  # 合适大小显示\n",
    "    Flash, Short = df_target.iloc[:, i+1]\n",
    "    tag = \"Flash: \" + str(Flash) + \"   Short:\" + str(Short)\n",
    "\n",
    "    font = cv2.FONT_HERSHEY_SIMPLEX  # 字体对象\n",
    "    cv2.putText(img, tag, (20, 450), font,\n",
    "                1, (20, 50, 200), 1, lineType=cv2.LINE_AA)\n",
    "    cv2.imshow(\"img\", img)\n",
    "\n",
    "    tmp = cv2.waitKey(0)\n",
    "    if tmp == ord('q'):  # 按q退出\n",
    "        i = n\n",
    "    if tmp == ord('a') and i != 0:  # 查看上一个图片\n",
    "        i -= 1\n",
    "    if tmp == ord('d') and i != n-1:\n",
    "        i += 1 \n",
    "        \n",
    "cv2.destroyAllWindows()"
   ]
  },
  {
   "cell_type": "markdown",
   "metadata": {},
   "source": [
    "#图片处理"
   ]
  },
  {
   "cell_type": "markdown",
   "metadata": {},
   "source": [
    "##降低分辨率 "
   ]
  },
  {
   "cell_type": "code",
   "execution_count": null,
   "metadata": {},
   "outputs": [],
   "source": [
    "#读取图片 修改像素 \n",
    "n=24\n",
    "ims=np.zeros((n))\n",
    "\n",
    "for i in range(n):\n",
    "    name = '(' + str(i+1) + ')'  #图片读取 \n",
    "    ims[i]=cv2.imread(name + '.bmp')\n",
    "    \n",
    "    cv2.resize(ims[i],(100,60))\n",
    "    cv2.imwrite(name + \"_.bmp\")"
   ]
  },
  {
   "cell_type": "code",
   "execution_count": 6,
   "metadata": {},
   "outputs": [
    {
     "data": {
      "text/plain": [
       "<matplotlib.image.AxesImage at 0x2e61cf55208>"
      ]
     },
     "execution_count": 6,
     "metadata": {},
     "output_type": "execute_result"
    },
    {
     "data": {
      "image/png": "[encoded data removed]",
      "text/plain": [
       "<Figure size 1440x1152 with 1 Axes>"
      ]
     },
     "metadata": {},
     "output_type": "display_data"
    }
   ],
   "source": [
    "name = '(' + str(0+1) + ')'\n",
    "img = cv2.imread(name + '.bmp')\n",
    "img_=cv2.resize(img, (150, 90))\n",
    "\n",
    "plt.figure(figsize=(20, 16))\n",
    "plt.xticks([]),plt.yticks([])\n",
    "plt.imshow(img_);"
   ]
  },
  {
   "cell_type": "markdown",
   "metadata": {},
   "source": [
    "##阈值分割"
   ]
  },
  {
   "cell_type": "markdown",
   "metadata": {},
   "source": [
    "#机器学习 "
   ]
  },
  {
   "cell_type": "code",
   "execution_count": null,
   "metadata": {},
   "outputs": [],
   "source": []
  }
 ],
 "metadata": {
  "kernelspec": {
   "display_name": "Python 3.6.6 64-bit",
   "language": "python",
   "name": "python36664bitde0cfb4cc6c84609a2790a63aff10743"
  },
  "language_info": {
   "codemirror_mode": {
    "name": "ipython",
    "version": 3
   },
   "file_extension": ".py",
   "mimetype": "text/x-python",
   "name": "python",
   "nbconvert_exporter": "python",
   "pygments_lexer": "ipython3",
   "version": "3.6.6"
  },
  "varInspector": {
   "cols": {
    "lenName": 16,
    "lenType": 16,
    "lenVar": 40
   },
   "kernels_config": {
    "python": {
     "delete_cmd_postfix": "",
     "delete_cmd_prefix": "del ",
     "library": "var_list.py",
     "varRefreshCmd": "print(var_dic_list())"
    },
    "r": {
     "delete_cmd_postfix": ") ",
     "delete_cmd_prefix": "rm(",
     "library": "var_list.r",
     "varRefreshCmd": "cat(var_dic_list()) "
    }
   },
   "position": {
    "height": "414.4px",
    "left": "1166px",
    "right": "20px",
    "top": "121px",
    "width": "350px"
   },
   "types_to_exclude": [
    "module",
    "function",
    "builtin_function_or_method",
    "instance",
    "_Feature"
   ],
   "window_display": false
  }
 },
 "nbformat": 4,
 "nbformat_minor": 4
}
